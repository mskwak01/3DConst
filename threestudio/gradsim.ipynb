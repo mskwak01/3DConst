{
 "cells": [
  {
   "cell_type": "code",
   "execution_count": null,
   "metadata": {},
   "outputs": [],
   "source": [
    "# load 'gradsim.pt' and visualize it\n",
    "import torch\n",
    "\n",
    "g = torch.load('gradsim.pt')\n",
    "print(g)"
   ]
  }
 ],
 "metadata": {
  "language_info": {
   "name": "python"
  }
 },
 "nbformat": 4,
 "nbformat_minor": 2
}
